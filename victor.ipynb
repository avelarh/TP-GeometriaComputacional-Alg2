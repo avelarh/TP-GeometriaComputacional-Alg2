{
 "cells": [
  {
   "cell_type": "code",
   "execution_count": 124,
   "metadata": {},
   "outputs": [],
   "source": [
    "import seaborn as sns\n",
    "import matplotlib.pyplot as plt\n",
    "import pandas as pd\n",
    "import numpy as np\n",
    "import random\n",
    "import math\n",
    "from sklearn.metrics import precision_score, recall_score, f1_score\n",
    "from sklearn.decomposition import PCA\n",
    "from sklearn.preprocessing import StandardScaler\n",
    "import sklearn.datasets \n",
    "from ucimlrepo import fetch_ucirepo\n",
    "from sklearn.model_selection import train_test_split"
   ]
  },
  {
   "cell_type": "markdown",
   "metadata": {},
   "source": [
    "# Definindo as funções que serão usadas"
   ]
  },
  {
   "cell_type": "markdown",
   "metadata": {},
   "source": [
    "## Funções para calcular envoltória convexa"
   ]
  },
  {
   "cell_type": "code",
   "execution_count": 125,
   "metadata": {},
   "outputs": [],
   "source": [
    "# Função para calcular a orientação dos pontos\n",
    "def orientacao(p, q, r):\n",
    "    val = (q[1] - p[1]) * (r[0] - q[0]) - (q[0] - p[0]) * (r[1] - q[1])\n",
    "    if val == 0:\n",
    "        return 0  # Colinear\n",
    "    return 1 if val > 0 else 2  # Horário ou anti-horário\n",
    "\n",
    "# Função para encontrar o ponto mais baixo (e mais à esquerda)\n",
    "def ponto_mais_baixo(pontos):\n",
    "    o_ponto_mais_baixo = pontos[0]\n",
    "    for ponto in pontos:\n",
    "        if ponto[1] < o_ponto_mais_baixo[1] or (ponto[1] == o_ponto_mais_baixo[1] and ponto[0] < o_ponto_mais_baixo[0]):\n",
    "            o_ponto_mais_baixo = ponto\n",
    "    return o_ponto_mais_baixo\n",
    "\n",
    "# Função para ordenar pontos angularmente a partir do ponto mais baixo\n",
    "def ordenar_pontos_angularmente(pontos):\n",
    "    o_ponto_mais_baixo = ponto_mais_baixo(pontos)\n",
    "    return sorted(pontos, key=lambda ponto: (math.atan2(ponto[1] - o_ponto_mais_baixo[1], ponto[0] - o_ponto_mais_baixo[0]), ponto))\n",
    "\n",
    "# Função para calcular a envoltória convexa\n",
    "def envoltoria_convexa(pontos):\n",
    "    n = len(pontos)\n",
    "    if n < 3:\n",
    "        return None  # Não é possível calcular a envoltória convexa com menos de 3 pontos\n",
    "\n",
    "    pontos_ordenados = ordenar_pontos_angularmente(pontos)\n",
    "    envoltoria = [pontos_ordenados[0], pontos_ordenados[1]]\n",
    "\n",
    "    for i in range(2, n):\n",
    "        while len(envoltoria) > 1 and orientacao(envoltoria[-2], envoltoria[-1], pontos_ordenados[i]) != 2:\n",
    "            envoltoria.pop()\n",
    "        envoltoria.append(pontos_ordenados[i])\n",
    "\n",
    "    return envoltoria"
   ]
  },
  {
   "cell_type": "markdown",
   "metadata": {},
   "source": [
    "## Funções para calcular overlap de envoltórias"
   ]
  },
  {
   "cell_type": "code",
   "execution_count": 126,
   "metadata": {},
   "outputs": [],
   "source": [
    "# Função auxiliar para verificar se um ponto está em um segmento\n",
    "def on_segment(p, q, r):\n",
    "    if (\n",
    "        min(p[0], r[0]) <= q[0] <= max(p[0], r[0])\n",
    "        and min(p[1], r[1]) <= q[1] <= max(p[1], r[1])\n",
    "    ):\n",
    "        return True\n",
    "    return False\n",
    "\n",
    "# Função para verificar a interseção de segmentos\n",
    "def do_intersect(p1, q1, p2, q2):\n",
    "    # Encontre as orientações dos quatro pontos\n",
    "    o1 = orientacao(p1, q1, p2)\n",
    "    o2 = orientacao(p1, q1, q2)\n",
    "    o3 = orientacao(p2, q2, p1)\n",
    "    o4 = orientacao(p2, q2, q1)\n",
    "\n",
    "    # Casos gerais\n",
    "    if o1 != o2 and o3 != o4:\n",
    "        return True\n",
    "\n",
    "    # Casos especiais\n",
    "    if o1 == 0 and on_segment(p1, p2, q1):\n",
    "        return True\n",
    "    if o2 == 0 and on_segment(p1, q2, q1):\n",
    "        return True\n",
    "    if o3 == 0 and on_segment(p2, p1, q2):\n",
    "        return True\n",
    "    if o4 == 0 and on_segment(p2, q1, q2):\n",
    "        return True\n",
    "\n",
    "    return False\n",
    "\n",
    "# Função principal para verificar a sobreposição entre duas envoltórias convexas\n",
    "def check_convex_hull_overlap(convex_hull1, convex_hull2):\n",
    "    n1 = len(convex_hull1)\n",
    "    n2 = len(convex_hull2)\n",
    "\n",
    "    # Verifique se há interseção entre os segmentos de ambos os conjuntos de envoltória convexa\n",
    "    for i in range(n1):\n",
    "        for j in range(n2):\n",
    "            if do_intersect(\n",
    "                convex_hull1[i], convex_hull1[(i + 1) % n1],\n",
    "                convex_hull2[j], convex_hull2[(j + 1) % n2]\n",
    "            ):\n",
    "                return True  # Há interseção\n",
    "\n",
    "    return False  # Não há interseção"
   ]
  },
  {
   "cell_type": "markdown",
   "metadata": {},
   "source": [
    "## Funções para calcular linha perpendicular"
   ]
  },
  {
   "cell_type": "code",
   "execution_count": 127,
   "metadata": {},
   "outputs": [],
   "source": [
    "def distancia(p1, p2):\n",
    "    return math.sqrt((p1[0] - p2[0])**2 + (p1[1] - p2[1])**2)\n",
    "\n",
    "def pontos_mais_proximos(conjunto1, conjunto2):\n",
    "    min_dist = float('inf')\n",
    "    pontos = None\n",
    "    \n",
    "    for p1 in conjunto1:\n",
    "        for p2 in conjunto2:\n",
    "            dist = distancia(p1, p2)\n",
    "            if dist < min_dist:\n",
    "                min_dist = dist\n",
    "                pontos = (p1, p2)\n",
    "\n",
    "    if p1[1] > p2[1]:\n",
    "        acima = 0\n",
    "    else:\n",
    "        acima = 1\n",
    "                \n",
    "    return pontos[0], pontos[1], acima\n",
    "\n",
    "def ponto_medio_reta(p1, p2):\n",
    "    return ((p1[0] + p2[0]) / 2, (p1[1] + p2[1]) / 2)\n",
    "\n",
    "def reta_perpendicular_ponto_medio(p1, p2):\n",
    "    ponto_medio = ponto_medio_reta(p1,p2)\n",
    "    inclinacao = (p2[1] - p1[1]) / (p2[0] - p1[0])\n",
    "    \n",
    "    # Inclinação da reta perpendicular\n",
    "    a_perpendicular = -1 / inclinacao\n",
    "    \n",
    "    # Calcula o coeficiente linear (b) da reta perpendicular\n",
    "    b_perpendicular = ponto_medio[1] - a_perpendicular * ponto_medio[0]\n",
    "    \n",
    "    # Retorna a equação da reta perpendicular na forma ax + b\n",
    "    return a_perpendicular, b_perpendicular"
   ]
  },
  {
   "cell_type": "markdown",
   "metadata": {},
   "source": [
    "## Função para calcular o pca de uma df"
   ]
  },
  {
   "cell_type": "code",
   "execution_count": 128,
   "metadata": {},
   "outputs": [],
   "source": [
    "def aplly_pca(df, target_name): #aqui o target tem que ser a string do nome da coluna rapaziada\n",
    "    targets = df[target_name]\n",
    "    df_numeric = df.select_dtypes(include=['number'])\n",
    "    pca = PCA(n_components=2)\n",
    "    df_pca = pca.fit_transform(df_numeric)\n",
    "    df_pca = pd.DataFrame(df_pca, columns=['Componente 1', 'Componente 2'])\n",
    "\n",
    "    explained_variance_ratio = pca.explained_variance_ratio_\n",
    "    total_explained_variance = explained_variance_ratio.sum()\n",
    "    print(f'Variação total explicada pelos dois primeiros componentes: {total_explained_variance * 100:.2f}%')\n",
    "\n",
    "    #aqui to voltando os targets\n",
    "    df_pca[target_name] = targets.reset_index(drop=True)\n",
    "\n",
    "    df_pca = df_pca.rename(columns={target_name : 'class'})\n",
    "\n",
    "    return df_pca\n",
    "\n",
    "def plot_pca(df):\n",
    "    sns.scatterplot(data=df, x='Componente 1', y='Componente 2', hue='class')"
   ]
  },
  {
   "cell_type": "markdown",
   "metadata": {},
   "source": [
    "## Função para classificacao do modelo"
   ]
  },
  {
   "cell_type": "code",
   "execution_count": 129,
   "metadata": {},
   "outputs": [],
   "source": [
    "def classificacao(df, a, b, acima):\n",
    "    if acima == 0:\n",
    "        abaixo = 1\n",
    "    else:\n",
    "        abaixo = 0\n",
    "\n",
    "    df['guess'] = None\n",
    "    classes = df['class'].unique()\n",
    "    \n",
    "    for index, row in df.iterrows():\n",
    "        x, y = row['Componente 1'], row['Componente 2']\n",
    "        valor_da_reta = a * x + b\n",
    "        \n",
    "        if y < valor_da_reta:\n",
    "            df.at[index, 'guess'] = classes[acima]\n",
    "        elif y > valor_da_reta:\n",
    "            df.at[index, 'guess'] = classes[abaixo]\n",
    "        else:\n",
    "            print(f\"Ponto {index} contido na reta\")\n",
    "            \n",
    "    return df"
   ]
  },
  {
   "cell_type": "markdown",
   "metadata": {},
   "source": [
    "## Função para calcular as métricas"
   ]
  },
  {
   "cell_type": "code",
   "execution_count": 130,
   "metadata": {},
   "outputs": [],
   "source": [
    "#essa função também já plota para visualização\n",
    "def metricas(df): # esse df aqui é o resultado do pca\n",
    "    #separando as classes\n",
    "    classes = df['class'].unique()\n",
    "\n",
    "\n",
    "    proporcao_treinamento = 0.7\n",
    "    proporcao_teste = 0.3\n",
    "\n",
    "    # Divida o DataFrame em conjuntos de treinamento e teste\n",
    "    dados_treinamento, dados_teste = train_test_split(df, test_size=proporcao_teste, random_state=42)\n",
    "\n",
    "    df_class1 = dados_treinamento.loc[df['class'] == classes[0]]\n",
    "    df_class2 = dados_treinamento.loc[df['class'] == classes[1]]\n",
    "\n",
    "    #transformando cada df em pontos\n",
    "    pontos1 = list(zip(df_class1['Componente 1'], df_class1['Componente 2']))\n",
    "    pontos2 = list(zip(df_class2['Componente 1'], df_class2['Componente 2']))\n",
    "\n",
    "    #pegando a envoltória de cada classe\n",
    "    env1 = envoltoria_convexa(pontos1)\n",
    "    env2 = envoltoria_convexa(pontos2)\n",
    "\n",
    "    #checando se possuem interseccção\n",
    "    interseccao = check_convex_hull_overlap(env1, env2)\n",
    "    if(interseccao):\n",
    "        print('Existe intersecção entre as envoltórias')\n",
    "        return False\n",
    "\n",
    "    #construindo o modelo\n",
    "    p1, p2, acima = pontos_mais_proximos(env1, env2)\n",
    "    a, b = reta_perpendicular_ponto_medio(p1, p2)    \n",
    "\n",
    "    #construindo a df resultante\n",
    "    resultado = classificacao(dados_teste, a, b, acima)\n",
    "    \n",
    "    #plotar a reta entre os pontos mais próximos\n",
    "    #plotar a reta perpendicular\n",
    "\n",
    "    #aqui não sei exatamente como considerar uma classe positiva ou negativa, então to considerando a primeira classe como a positiva\n",
    "    #olhar isso melhor depois\n",
    "    precisao = precision_score(resultado['class'], resultado['guess'], pos_label=classes[0])\n",
    "    revocacao = recall_score(resultado['class'], resultado['guess'], pos_label=classes[0])\n",
    "    f1_escore = f1_score(resultado['class'], resultado['guess'], pos_label=classes[0])\n",
    "\n",
    "    ##começando o plot\n",
    "\n",
    "    ##normalizando o df para não ficar zoado o plot\n",
    "    # scaler = StandardScaler()\n",
    "    # df_scaled = resultado.copy()\n",
    "    # df_scaled[['Componente 1', 'Componente 2']] = scaler.fit_transform(df[['Componente 1', 'Componente 2']])\n",
    "\n",
    "    plt.figure(figsize=(8, 8))\n",
    "\n",
    "    x_min, x_max = df['Componente 1'].min(), df['Componente 1'].max()\n",
    "\n",
    "    # Usando esses valores para calcular os valores correspondentes de y na linha perpendicular\n",
    "    x = np.linspace(x_min, x_max, 400)\n",
    "    y = a * x + b\n",
    "\n",
    "    # Plotando a linha perpendicular\n",
    "    # ponto_inicial = [x_valor_inicial, y_valor_inicial]\n",
    "    # ponto_final = [x_valor_final, y_valor_final]\n",
    "\n",
    "    # Plotando a linha perpendicular\n",
    "    # plt.plot([ponto_inicial[0], ponto_final[0]], [ponto_inicial[1], ponto_final[1]], color='g', linestyle='--', linewidth=2, label='Linha Perpendicular')\n",
    "\n",
    "    \n",
    "    env1_poly = plt.Polygon(env1, fill=None, edgecolor='r', label='Envoltória Convexa 1')\n",
    "    env2_poly = plt.Polygon(env2, fill=None, edgecolor='b', label='Envoltória Convexa 2')\n",
    "    plt.gca().add_patch(env1_poly)\n",
    "    plt.gca().add_patch(env2_poly)\n",
    "    \n",
    "    plt.plot([p1[0], p2[0]], [p1[1], p2[1]], color='k', linestyle='-', linewidth=2, label='Linha entre pontos mais próximos')\n",
    "    \n",
    "    x = np.linspace(min(df['Componente 1']), max(df['Componente 1']), 400)\n",
    "    y = a * x + b\n",
    "    plt.gca().set_aspect(0.5, adjustable='box')\n",
    "    \n",
    "    plt.legend()\n",
    "    plt.grid(True)\n",
    "    plt.show()\n",
    "\n",
    "    print(precisao)\n",
    "    return precisao, revocacao, f1_escore\n",
    "\n"
   ]
  },
  {
   "cell_type": "markdown",
   "metadata": {},
   "source": [
    "# Fazendo as análises"
   ]
  },
  {
   "cell_type": "markdown",
   "metadata": {},
   "source": [
    "## Dataset 1: Iris"
   ]
  },
  {
   "cell_type": "code",
   "execution_count": 131,
   "metadata": {},
   "outputs": [
    {
     "name": "stdout",
     "output_type": "stream",
     "text": [
      "Variação total explicada pelos dois primeiros componentes: 97.98%\n"
     ]
    }
   ],
   "source": [
    "iris = sns.load_dataset('iris')\n",
    "iris = iris[iris['species'] != 'virginica']\n",
    "iris_pca = aplly_pca(iris, \"species\")"
   ]
  },
  {
   "cell_type": "code",
   "execution_count": 132,
   "metadata": {},
   "outputs": [
    {
     "data": {
      "image/png": "[encoded data removed]",
      "text/plain": [
       "<Figure size 800x800 with 1 Axes>"
      ]
     },
     "metadata": {},
     "output_type": "display_data"
    },
    {
     "name": "stdout",
     "output_type": "stream",
     "text": [
      "1.0\n",
      "(1.0, 1.0, 1.0)\n"
     ]
    }
   ],
   "source": [
    "r = metricas(iris_pca)\n",
    "print(r)"
   ]
  },
  {
   "cell_type": "markdown",
   "metadata": {},
   "source": [
    "## Dataset 2: Pinguins"
   ]
  },
  {
   "cell_type": "code",
   "execution_count": 133,
   "metadata": {},
   "outputs": [
    {
     "name": "stdout",
     "output_type": "stream",
     "text": [
      "Variação total explicada pelos dois primeiros componentes: 100.00%\n"
     ]
    }
   ],
   "source": [
    "penguins = sns.load_dataset('penguins')\n",
    "penguins = penguins.dropna()\n",
    "penguins = penguins[penguins['species'] != 'Chinstrap']\n",
    "penguins = penguins[penguins['sex'] != 'Female']\n",
    "penguins_pca = aplly_pca(penguins, 'species')"
   ]
  },
  {
   "cell_type": "code",
   "execution_count": 134,
   "metadata": {},
   "outputs": [
    {
     "data": {
      "image/png": "[encoded data removed]",
      "text/plain": [
       "<Figure size 800x800 with 1 Axes>"
      ]
     },
     "metadata": {},
     "output_type": "display_data"
    },
    {
     "name": "stdout",
     "output_type": "stream",
     "text": [
      "0.0625\n"
     ]
    }
   ],
   "source": [
    "r = metricas(penguins_pca)"
   ]
  },
  {
   "cell_type": "code",
   "execution_count": 135,
   "metadata": {},
   "outputs": [
    {
     "data": {
      "text/plain": [
       "(0.0625, 0.038461538461538464, 0.04761904761904762)"
      ]
     },
     "execution_count": 135,
     "metadata": {},
     "output_type": "execute_result"
    }
   ],
   "source": [
    "r"
   ]
  }
 ],
 "metadata": {
  "kernelspec": {
   "display_name": "base",
   "language": "python",
   "name": "python3"
  },
  "language_info": {
   "codemirror_mode": {
    "name": "ipython",
    "version": 3
   },
   "file_extension": ".py",
   "mimetype": "text/x-python",
   "name": "python",
   "nbconvert_exporter": "python",
   "pygments_lexer": "ipython3",
   "version": "3.11.4"
  }
 },
 "nbformat": 4,
 "nbformat_minor": 2
}
