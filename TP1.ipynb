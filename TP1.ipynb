{
 "cells": [
  {
   "cell_type": "code",
   "execution_count": 12,
   "metadata": {},
   "outputs": [],
   "source": [
    "import sklearn"
   ]
  },
  {
   "cell_type": "code",
   "execution_count": 13,
   "metadata": {},
   "outputs": [],
   "source": [
    "def orientation(p, q, r):\n",
    "            # Função para calcular a orientação de três pontos (para determinar se são colineares, horários ou anti-horários)\n",
    "            val = (q[1] - p[1]) * (r[0] - q[0]) - (q[0] - p[0]) * (r[1] - q[1])\n",
    "            if val == 0:\n",
    "                return 0  # Colinear\n",
    "            return 1 if val > 0 else 2  # Horário ou anti-horário\n",
    "\n",
    "def on_segment(p, q, r):\n",
    "    # Função para verificar se o ponto q está no segmento entre p e r\n",
    "    return (q[0] <= max(p[0], r[0]) and q[0] >= min(p[0], r[0]) and\n",
    "            q[1] <= max(p[1], r[1]) and q[1] >= min(p[1], r[1]))\n",
    "\n",
    "def intersect(segment1, segment2):\n",
    "    # Função para verificar se dois segmentos se intersectam\n",
    "    x1, y1 = segment1[0]\n",
    "    x2, y2 = segment1[1]\n",
    "    x3, y3 = segment2[0]\n",
    "    x4, y4 = segment2[1]\n",
    "\n",
    "    o1 = orientation((x1, y1), (x2, y2), (x3, y3))\n",
    "    o2 = orientation((x1, y1), (x2, y2), (x4, y4))\n",
    "    o3 = orientation((x3, y3), (x4, y4), (x1, y1))\n",
    "    o4 = orientation((x3, y3), (x4, y4), (x2, y2))\n",
    "\n",
    "    if o1 != o2 and o3 != o4:\n",
    "        return True  # Segmentos são não colineares e se intersectam\n",
    "\n",
    "    if o1 == 0 and on_segment((x1, y1), (x3, y3), (x2, y2)):\n",
    "        return True  # Segmento 1 é colinear com o segmento 2 e o ponto de interseção está no segmento 1\n",
    "    if o2 == 0 and on_segment((x1, y1), (x4, y4), (x2, y2)):\n",
    "        return True  # Segmento 1 é colinear com o segmento 2 e o ponto de interseção está no segmento 2\n",
    "    if o3 == 0 and on_segment((x3, y3), (x1, y1), (x4, y4)):\n",
    "        return True  # Segmento 2 é colinear com o segmento 1 e o ponto de interseção está no segmento 2\n",
    "    if o4 == 0 and on_segment((x3, y3), (x2, y2), (x4, y4)):\n",
    "        return True  # Segmento 2 é colinear com o segmento 1 e o ponto de interseção está no segmento 1\n",
    "\n",
    "    return False  # Não há interseção\n",
    "\n",
    "def linear_scan(segments):\n",
    "    events = []\n",
    "    for segment in segments:\n",
    "        events.append((segment[0], 'left', segment))  # Adiciona ponto inicial como evento 'esquerda'\n",
    "        events.append((segment[1], 'right', segment))  # Adiciona ponto final como evento 'direita'\n",
    "\n",
    "    events.sort()  # Classifica os eventos em ordem crescente da posição\n",
    "\n",
    "    active_segments = set()\n",
    "    intersections = []\n",
    "\n",
    "    for event in events:\n",
    "        position, event_type, segment = event\n",
    "\n",
    "        if event_type == 'left':\n",
    "            for active_segment in active_segments:\n",
    "                if intersect(segment, active_segment):\n",
    "                    intersections.append((segment, active_segment))  # Segmentos se intersectam\n",
    "            active_segments.add(segment)\n",
    "        else:\n",
    "            active_segments.remove(segment)\n",
    "\n",
    "    return intersections"
   ]
  },
  {
   "cell_type": "code",
   "execution_count": 14,
   "metadata": {},
   "outputs": [
    {
     "data": {
      "image/png": "[encoded data removed]",
      "text/plain": [
       "<Figure size 640x480 with 1 Axes>"
      ]
     },
     "metadata": {},
     "output_type": "display_data"
    }
   ],
   "source": [
    "import matplotlib.pyplot as plt\n",
    "\n",
    "def create_segments(points):\n",
    "    segments = []\n",
    "    points = sorted(points)\n",
    "    for i in range(len(points) - 1):\n",
    "        segment = (points[i], points[i+1])\n",
    "        segments.append(segment)\n",
    "    return segments\n",
    "\n",
    "# Exemplo de entrada com um conjunto de pontos\n",
    "points = [(1, 1), (5, 5), (3, 3), (6, 6), (2, 2), (1, 5), (5, 1)]\n",
    "\n",
    "# Chame a função para criar os segmentos\n",
    "segments = create_segments(points)\n",
    "\n",
    "# Extrair as coordenadas x e y dos segmentos\n",
    "x = [[point[0] for point in segment] for segment in segments]\n",
    "y = [[point[1] for point in segment] for segment in segments]\n",
    "\n",
    "# Criar um gráfico para plotar os segmentos\n",
    "for i in range(len(x)):\n",
    "    plt.plot(x[i], y[i])\n",
    "\n",
    "# Definir rótulos para os eixos\n",
    "plt.xlabel('Coordenada x')\n",
    "plt.ylabel('Coordenada y')\n",
    "\n",
    "# Exibir o gráfico\n",
    "plt.show()"
   ]
  },
  {
   "cell_type": "code",
   "execution_count": 17,
   "metadata": {},
   "outputs": [
    {
     "name": "stdout",
     "output_type": "stream",
     "text": [
      "[((5.11, 12.899999999999999), (5.15, 21.32)), ((2, 2), (6, 6)), ((3, 3), (7, 7)), ((1, 5), (5, 1))]\n",
      "Interseção entre ((2, 2), (6, 6)) e ((1, 5), (5, 1))\n",
      "Interseção entre ((3, 3), (7, 7)) e ((1, 5), (5, 1))\n",
      "Interseção entre ((3, 3), (7, 7)) e ((2, 2), (6, 6))\n"
     ]
    }
   ],
   "source": [
    "if __name__ == '__main__':\n",
    "    # Exemplo de uso\n",
    "    segment1 = ((5.11, 12.899999999999999),(5.15, 21.32))\n",
    "    segment2 = ((2, 2), (6, 6))\n",
    "    segment3 = ((3, 3), (7, 7))\n",
    "    segment4 = ((1, 5), (5, 1))\n",
    "\n",
    "    segments = [segment1, segment2, segment3, segment4]\n",
    "\n",
    "    intersections = linear_scan(segments)\n",
    "\n",
    "    print(segments)\n",
    "\n",
    "    if intersections:\n",
    "        for segment1, segment2 in intersections:\n",
    "            print(f\"Interseção entre {segment1} e {segment2}\")\n",
    "    else:\n",
    "        print(\"Nenhuma interseção encontrada.\")\n",
    "\n"
   ]
  }
 ],
 "metadata": {
  "kernelspec": {
   "display_name": "myenv",
   "language": "python",
   "name": "python3"
  },
  "language_info": {
   "codemirror_mode": {
    "name": "ipython",
    "version": 3
   },
   "file_extension": ".py",
   "mimetype": "text/x-python",
   "name": "python",
   "nbconvert_exporter": "python",
   "pygments_lexer": "ipython3",
   "version": "3.10.10"
  }
 },
 "nbformat": 4,
 "nbformat_minor": 2
}
