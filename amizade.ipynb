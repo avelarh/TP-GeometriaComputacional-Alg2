{
 "cells": [
  {
   "cell_type": "code",
   "execution_count": 1,
   "metadata": {},
   "outputs": [],
   "source": [
    "import seaborn as sns\n",
    "import matplotlib.pyplot as plt\n",
    "import pandas as pd\n",
    "import numpy as np\n",
    "import random\n",
    "import math\n",
    "from sklearn.metrics import precision_score, recall_score, f1_score\n",
    "from sklearn.decomposition import PCA\n",
    "from sklearn.preprocessing import StandardScaler\n",
    "import sklearn.datasets \n",
    "from ucimlrepo import fetch_ucirepo\n",
    "from sklearn.model_selection import train_test_split"
   ]
  },
  {
   "cell_type": "markdown",
   "metadata": {},
   "source": [
    "# Definindo as funções que serão usadas"
   ]
  },
  {
   "cell_type": "markdown",
   "metadata": {},
   "source": [
    "## Funções para calcular envoltória convexa"
   ]
  },
  {
   "cell_type": "code",
   "execution_count": 2,
   "metadata": {},
   "outputs": [],
   "source": [
    "# Função para calcular a orientação dos pontos\n",
    "def orientacao(p, q, r):\n",
    "    val = (q[1] - p[1]) * (r[0] - q[0]) - (q[0] - p[0]) * (r[1] - q[1])\n",
    "    if val == 0:\n",
    "        return 0  # Colinear\n",
    "    return 1 if val > 0 else 2  # Horário ou anti-horário\n",
    "\n",
    "# Função para encontrar o ponto mais baixo (e mais à esquerda)\n",
    "def ponto_mais_baixo(pontos):\n",
    "    o_ponto_mais_baixo = pontos[0]\n",
    "    for ponto in pontos:\n",
    "        if ponto[1] < o_ponto_mais_baixo[1] or (ponto[1] == o_ponto_mais_baixo[1] and ponto[0] < o_ponto_mais_baixo[0]):\n",
    "            o_ponto_mais_baixo = ponto\n",
    "    return o_ponto_mais_baixo\n",
    "\n",
    "# Função para ordenar pontos angularmente a partir do ponto mais baixo\n",
    "def ordenar_pontos_angularmente(pontos):\n",
    "    o_ponto_mais_baixo = ponto_mais_baixo(pontos)\n",
    "    return sorted(pontos, key=lambda ponto: (math.atan2(ponto[1] - o_ponto_mais_baixo[1], ponto[0] - o_ponto_mais_baixo[0]), ponto))\n",
    "\n",
    "# Função para calcular a envoltória convexa\n",
    "def envoltoria_convexa(pontos):\n",
    "    n = len(pontos)\n",
    "    if n < 3:\n",
    "        return None  # Não é possível calcular a envoltória convexa com menos de 3 pontos\n",
    "\n",
    "    pontos_ordenados = ordenar_pontos_angularmente(pontos)\n",
    "    envoltoria = [pontos_ordenados[0], pontos_ordenados[1]]\n",
    "\n",
    "    for i in range(2, n):\n",
    "        while len(envoltoria) > 1 and orientacao(envoltoria[-2], envoltoria[-1], pontos_ordenados[i]) != 2:\n",
    "            envoltoria.pop()\n",
    "        envoltoria.append(pontos_ordenados[i])\n",
    "\n",
    "    return envoltoria"
   ]
  },
  {
   "cell_type": "markdown",
   "metadata": {},
   "source": [
    "## Funções para calcular overlap de envoltórias"
   ]
  },
  {
   "cell_type": "code",
   "execution_count": 3,
   "metadata": {},
   "outputs": [],
   "source": [
    "# Função auxiliar para verificar se um ponto está em um segmento\n",
    "def on_segment(p, q, r):\n",
    "    if (\n",
    "        min(p[0], r[0]) <= q[0] <= max(p[0], r[0])\n",
    "        and min(p[1], r[1]) <= q[1] <= max(p[1], r[1])\n",
    "    ):\n",
    "        return True\n",
    "    return False\n",
    "\n",
    "# Função para verificar a interseção de segmentos\n",
    "def do_intersect(p1, q1, p2, q2):\n",
    "    # Encontre as orientações dos quatro pontos\n",
    "    o1 = orientacao(p1, q1, p2)\n",
    "    o2 = orientacao(p1, q1, q2)\n",
    "    o3 = orientacao(p2, q2, p1)\n",
    "    o4 = orientacao(p2, q2, q1)\n",
    "\n",
    "    # Casos gerais\n",
    "    if o1 != o2 and o3 != o4:\n",
    "        return True\n",
    "\n",
    "    # Casos especiais\n",
    "    if o1 == 0 and on_segment(p1, p2, q1):\n",
    "        return True\n",
    "    if o2 == 0 and on_segment(p1, q2, q1):\n",
    "        return True\n",
    "    if o3 == 0 and on_segment(p2, p1, q2):\n",
    "        return True\n",
    "    if o4 == 0 and on_segment(p2, q1, q2):\n",
    "        return True\n",
    "\n",
    "    return False\n",
    "\n",
    "# Função principal para verificar a sobreposição entre duas envoltórias convexas\n",
    "def check_convex_hull_overlap(convex_hull1, convex_hull2):\n",
    "    n1 = len(convex_hull1)\n",
    "    n2 = len(convex_hull2)\n",
    "\n",
    "    # Verifique se há interseção entre os segmentos de ambos os conjuntos de envoltória convexa\n",
    "    for i in range(n1):\n",
    "        for j in range(n2):\n",
    "            if do_intersect(\n",
    "                convex_hull1[i], convex_hull1[(i + 1) % n1],\n",
    "                convex_hull2[j], convex_hull2[(j + 1) % n2]\n",
    "            ):\n",
    "                return True  # Há interseção\n",
    "\n",
    "    return False  # Não há interseção\n",
    "\n",
    "# Função para plotar uma envoltória convexa\n",
    "def plot_envoltoria(pontos_envoltoria):\n",
    "\n",
    "    env1 = envoltoria_convexa(pontos_envoltoria)\n",
    "    x, y = zip(*pontos_envoltoria)\n",
    "    env_x, env_y = zip(*env1)\n",
    "\n",
    "\n",
    "    plt.scatter(x, y, c='b', marker='o', label='Pontos')\n",
    "    plt.plot(env_x + (env_x[0],), env_y + (env_y[0],), linestyle='-', color='r', label='Envoltória Convexa')"
   ]
  },
  {
   "cell_type": "markdown",
   "metadata": {},
   "source": [
    "## Funções para calcular linha perpendicular"
   ]
  },
  {
   "cell_type": "code",
   "execution_count": 4,
   "metadata": {},
   "outputs": [],
   "source": [
    "def distancia(p1, p2):\n",
    "    return math.sqrt((p1[0] - p2[0])**2 + (p1[1] - p2[1])**2)\n",
    "\n",
    "def pontos_mais_proximos(conjunto1, conjunto2):\n",
    "    min_dist = float('inf')\n",
    "    pontos = None\n",
    "    \n",
    "    for p1 in conjunto1:\n",
    "        for p2 in conjunto2:\n",
    "            dist = distancia(p1, p2)\n",
    "            if dist < min_dist:\n",
    "                min_dist = dist\n",
    "                pontos = (p1, p2)\n",
    "\n",
    "    if pontos[0][1] > pontos[1][1]:\n",
    "        acima = 0\n",
    "    else:\n",
    "        acima = 1\n",
    "                \n",
    "    return pontos[0], pontos[1], acima\n",
    "\n",
    "def ponto_medio_reta(p1, p2):\n",
    "    return ((p1[0] + p2[0]) / 2, (p1[1] + p2[1]) / 2)\n",
    "\n",
    "def reta_perpendicular_ponto_medio(p1, p2):\n",
    "    ponto_medio = ponto_medio_reta(p1,p2)\n",
    "    inclinacao = (p2[1] - p1[1]) / (p2[0] - p1[0])\n",
    "    \n",
    "    # Inclinação da reta perpendicular\n",
    "    a_perpendicular = -1 / inclinacao\n",
    "    \n",
    "    # Calcula o coeficiente linear (b) da reta perpendicular\n",
    "    b_perpendicular = ponto_medio[1] - a_perpendicular * ponto_medio[0]\n",
    "    \n",
    "    # Retorna a equação da reta perpendicular na forma ax + b\n",
    "    return a_perpendicular, b_perpendicular"
   ]
  },
  {
   "cell_type": "markdown",
   "metadata": {},
   "source": [
    "## Função para calcular o pca de uma df"
   ]
  },
  {
   "cell_type": "code",
   "execution_count": 5,
   "metadata": {},
   "outputs": [],
   "source": [
    "def apply_pca(df, target_name): #aqui o target tem que ser a string do nome da coluna rapaziada\n",
    "    targets = df[target_name]\n",
    "    df_numeric = df.select_dtypes(include=['number'])\n",
    "    pca = PCA(n_components=2)\n",
    "    df_pca = pca.fit_transform(df_numeric)\n",
    "    df_pca = pd.DataFrame(df_pca, columns=['Componente 1', 'Componente 2'])\n",
    "\n",
    "    explained_variance_ratio = pca.explained_variance_ratio_\n",
    "    total_explained_variance = explained_variance_ratio.sum()\n",
    "    print(f'Variação total explicada pelos dois primeiros componentes: {total_explained_variance * 100:.2f}%')\n",
    "\n",
    "    #aqui to voltando os targets\n",
    "    df_pca[target_name] = targets.reset_index(drop=True)\n",
    "\n",
    "    df_pca = df_pca.rename(columns={target_name : 'class'})\n",
    "\n",
    "    return df_pca\n",
    "\n",
    "def plot_pca(df):\n",
    "    sns.scatterplot(data=df, x='Componente 1', y='Componente 2', hue='class')"
   ]
  },
  {
   "cell_type": "markdown",
   "metadata": {},
   "source": [
    "## Função para classificacao do modelo"
   ]
  },
  {
   "cell_type": "code",
   "execution_count": 6,
   "metadata": {},
   "outputs": [],
   "source": [
    "def classificacao(df, a, b, acima):\n",
    "    if acima == 0:\n",
    "        abaixo = 1\n",
    "    else:\n",
    "        abaixo = 0\n",
    "\n",
    "    df['guess'] = None\n",
    "    classes = df['class'].unique()\n",
    "    \n",
    "    for index, row in df.iterrows():\n",
    "        x, y = row['Componente 1'], row['Componente 2']\n",
    "        valor_da_reta = a * x + b\n",
    "        \n",
    "        if y < valor_da_reta:\n",
    "            df.at[index, 'guess'] = classes[abaixo]\n",
    "        elif y > valor_da_reta:\n",
    "            df.at[index, 'guess'] = classes[acima]\n",
    "        else:\n",
    "            print(f\"Ponto {index} contido na reta\")\n",
    "            \n",
    "    return df"
   ]
  },
  {
   "cell_type": "markdown",
   "metadata": {},
   "source": [
    "## Função para calcular o modelo"
   ]
  },
  {
   "cell_type": "code",
   "execution_count": 7,
   "metadata": {},
   "outputs": [],
   "source": [
    "def cria_modelo(df): #df 70% de treino\n",
    "    classes = df['class'].unique()\n",
    "    df_class1 = df.loc[df['class'] == classes[0]]\n",
    "    df_class2 = df.loc[df['class'] == classes[1]]\n",
    "\n",
    "    pontos1 = list(zip(df_class1['Componente 1'], df_class1['Componente 2']))\n",
    "    pontos2 = list(zip(df_class2['Componente 1'], df_class2['Componente 2']))\n",
    "\n",
    "    env1 = envoltoria_convexa(pontos1)\n",
    "    env2 = envoltoria_convexa(pontos2)\n",
    "\n",
    "    interseccao = check_convex_hull_overlap(env1, env2)\n",
    "    if(interseccao):\n",
    "        print('Existe intersecção entre as envoltórias')\n",
    "        return False\n",
    "\n",
    "    p1, p2, acima = pontos_mais_proximos(env1, env2)\n",
    "    a, b = reta_perpendicular_ponto_medio(p1, p2)\n",
    "\n",
    "    return a, b, acima, pontos1, pontos2, p1, p2"
   ]
  },
  {
   "cell_type": "markdown",
   "metadata": {},
   "source": [
    "## Função pra calcular métricas do modelo"
   ]
  },
  {
   "cell_type": "code",
   "execution_count": 8,
   "metadata": {},
   "outputs": [],
   "source": [
    "def calcula_metricas(df, a, b, acima): #df 30% de teste\n",
    "    classes = df['class'].unique()\n",
    "    resultado = classificacao(df, a, b, acima)\n",
    "    precisao = precision_score(resultado['class'], resultado['guess'], pos_label=classes[0])\n",
    "    revocacao = recall_score(resultado['class'], resultado['guess'], pos_label=classes[0])\n",
    "    f1_escore = f1_score(resultado['class'], resultado['guess'], pos_label=classes[0])\n",
    "\n",
    "    return resultado, precisao, revocacao, f1_escore"
   ]
  },
  {
   "cell_type": "markdown",
   "metadata": {},
   "source": [
    "## Função para os plots"
   ]
  },
  {
   "cell_type": "code",
   "execution_count": 12,
   "metadata": {},
   "outputs": [],
   "source": [
    "def plot_envoltoria(pontos_envoltoria,color):\n",
    "\n",
    "    env1 = envoltoria_convexa(pontos_envoltoria)\n",
    "    x, y = zip(*pontos_envoltoria)\n",
    "    env_x, env_y = zip(*env1)\n",
    "\n",
    "    plt.plot(env_x + (env_x[0],), env_y + (env_y[0],), linestyle='-', color= color, label= None)\n",
    "    plt.legend()\n",
    "    plt.xlabel('Eixo X')\n",
    "    plt.ylabel('Eixo Y')\n",
    "    plt.grid(True)"
   ]
  },
  {
   "cell_type": "markdown",
   "metadata": {},
   "source": [
    "# Fazendo as análises"
   ]
  },
  {
   "cell_type": "code",
   "execution_count": 9,
   "metadata": {},
   "outputs": [],
   "source": [
    "def retorna_pca_uci(id_num, target_name):\n",
    "    data = fetch_ucirepo(id=id_num)\n",
    "    A = data.data.features\n",
    "    y = data.data.targets\n",
    "    feat = pd.DataFrame(A)\n",
    "    tar = pd.DataFrame(y)\n",
    "    df = pd.concat([feat, tar], axis=1)\n",
    "    df = df.dropna()\n",
    "\n",
    "    df_pca = apply_pca(df, target_name)\n",
    "    return df_pca"
   ]
  },
  {
   "cell_type": "markdown",
   "metadata": {},
   "source": [
    "## Dataset 1: Iris"
   ]
  },
  {
   "cell_type": "code",
   "execution_count": 10,
   "metadata": {},
   "outputs": [
    {
     "name": "stdout",
     "output_type": "stream",
     "text": [
      "Variação total explicada pelos dois primeiros componentes: 97.98%\n"
     ]
    }
   ],
   "source": [
    "iris = sns.load_dataset('iris')\n",
    "iris = iris[iris['species'] != 'virginica']\n",
    "iris_pca = apply_pca(iris, \"species\")"
   ]
  },
  {
   "cell_type": "code",
   "execution_count": 13,
   "metadata": {},
   "outputs": [
    {
     "name": "stdout",
     "output_type": "stream",
     "text": [
      "1.0\n",
      "1.0\n",
      "1.0\n"
     ]
    }
   ],
   "source": [
    "a, b, acima,pontos1, pontos2, p1, p2 = cria_modelo(iris_pca)\n",
    "#plotar o treino + modelo\n",
    "\n",
    "resultado, precisao, revocacao, f1_escore = calcula_metricas(iris_pca, a, b, acima)\n",
    "#plotar o teste + modelo\n",
    "print(precisao)\n",
    "print(revocacao) \n",
    "print(f1_escore)"
   ]
  },
  {
   "cell_type": "code",
   "execution_count": 15,
   "metadata": {},
   "outputs": [
    {
     "data": {
      "text/plain": [
       "(-2.417726129610085, 2.8154220160367354, -3.089644853347009, 2.490556723985154)"
      ]
     },
     "execution_count": 15,
     "metadata": {},
     "output_type": "execute_result"
    },
    {
     "data": {
      "image/png": "[encoded data removed]",
      "text/plain": [
       "<Figure size 640x480 with 1 Axes>"
      ]
     },
     "metadata": {},
     "output_type": "display_data"
    }
   ],
   "source": [
    "env1 = envoltoria_convexa(pontos1)\n",
    "env2 = envoltoria_convexa(pontos2)\n",
    "x1, y1 = p1\n",
    "x2, y2 = p2\n",
    "\n",
    "x = np.linspace(-1.5, 0.5, 10)  # Valores de -10 a 10\n",
    "# Calcular os valores correspondentes no eixo y usando a equação\n",
    "y = a * x + b\n",
    "\n",
    "# Plotar a reta\n",
    "plt.plot(x, y, label=f'y = {a}x + {b}')\n",
    "plt.plot([x1,x2], [y1,y2], color='r', linestyle='-', linewidth=2, label='Segmento de Reta')\n",
    "sns.scatterplot(data = iris_pca, x = 'Componente 1', y = 'Componente 2', hue = 'guess')\n",
    "plot_envoltoria(env1, \"blue\")\n",
    "plot_envoltoria(env2, \"orange\")\n",
    "plt.title('Classificação')\n",
    "plt.axis('equal')\n"
   ]
  },
  {
   "cell_type": "markdown",
   "metadata": {},
   "source": [
    "## Dataset 2: Pinguins"
   ]
  },
  {
   "cell_type": "code",
   "execution_count": 17,
   "metadata": {},
   "outputs": [
    {
     "name": "stdout",
     "output_type": "stream",
     "text": [
      "Variação total explicada pelos dois primeiros componentes: 100.00%\n"
     ]
    }
   ],
   "source": [
    "penguins = sns.load_dataset('penguins')\n",
    "penguins = penguins.dropna()\n",
    "penguins = penguins[penguins['species'] != 'Chinstrap']\n",
    "penguins = penguins[penguins['sex'] != 'Female']\n",
    "penguins_pca = apply_pca(penguins, 'species')"
   ]
  },
  {
   "cell_type": "code",
   "execution_count": 18,
   "metadata": {},
   "outputs": [
    {
     "name": "stdout",
     "output_type": "stream",
     "text": [
      "1.0\n",
      "0.9863013698630136\n",
      "0.993103448275862\n"
     ]
    }
   ],
   "source": [
    "a, b, acima, pontos1, pontos2, p1, p2 = cria_modelo(penguins_pca)\n",
    "#plotar o treino + modelo\n",
    "\n",
    "resultado, precisao, revocacao, f1_escore = calcula_metricas(penguins_pca, a, b, acima)\n",
    "#plotar o teste + modelo\n",
    "print(precisao)\n",
    "print(revocacao)\n",
    "print(f1_escore)"
   ]
  },
  {
   "cell_type": "code",
   "execution_count": 19,
   "metadata": {},
   "outputs": [
    {
     "data": {
      "text/plain": [
       "Text(0.5, 1.0, 'Classificação')"
      ]
     },
     "execution_count": 19,
     "metadata": {},
     "output_type": "execute_result"
    },
    {
     "data": {
      "image/png": "[encoded data removed]",
      "text/plain": [
       "<Figure size 640x480 with 1 Axes>"
      ]
     },
     "metadata": {},
     "output_type": "display_data"
    }
   ],
   "source": [
    "env1 = envoltoria_convexa(pontos1)\n",
    "env2 = envoltoria_convexa(pontos2)\n",
    "x1, y1 = p1\n",
    "x2, y2 = p2\n",
    "\n",
    "x = np.linspace(0, 80, 100)  # Valores de -10 a 10\n",
    "# Calcular os valores correspondentes no eixo y usando a equação\n",
    "y = a * x + b\n",
    "\n",
    "# Plotar a reta\n",
    "plt.plot(x, y, label=f'y = {a}x + {b}')\n",
    "plt.plot([x1,x2], [y1,y2], color='r', linestyle='-', linewidth=2, label='Segmento de Reta')\n",
    "sns.scatterplot(data = penguins_pca, x = 'Componente 1', y = 'Componente 2', hue = 'guess')\n",
    "plot_envoltoria(env1, \"blue\")\n",
    "plot_envoltoria(env2, \"orange\")\n",
    "plt.title('Classificação')\n"
   ]
  },
  {
   "cell_type": "markdown",
   "metadata": {},
   "source": [
    "## Dataset 3: Breast Cancer"
   ]
  },
  {
   "cell_type": "code",
   "execution_count": null,
   "metadata": {},
   "outputs": [
    {
     "name": "stdout",
     "output_type": "stream",
     "text": [
      "Variação total explicada pelos dois primeiros componentes: 99.82%\n"
     ]
    }
   ],
   "source": [
    "breast_cancer_data = sklearn.datasets.load_breast_cancer()\n",
    "breast_cancer = pd.DataFrame(breast_cancer_data.data, columns=breast_cancer_data.feature_names)\n",
    "breast_cancer['target'] = breast_cancer_data.target\n",
    "breast_pca = apply_pca(breast_cancer, 'target')"
   ]
  },
  {
   "cell_type": "code",
   "execution_count": null,
   "metadata": {},
   "outputs": [],
   "source": [
    "# a, b, acima = cria_modelo(breast_pca)\n",
    "# #plotar o treino + modelo\n",
    "\n",
    "# resultado, precisao, revocacao, f1_escore = calcula_metricas(breast_pca, a, b, acima)\n",
    "# #plotar o teste + modelo\n",
    "# print(precisao)\n",
    "# print(revocacao)\n",
    "# print(f1_escore)\n"
   ]
  },
  {
   "cell_type": "markdown",
   "metadata": {},
   "source": [
    "## DATASET 4: wheat seeds\n",
    "\n",
    "https://www.kaggle.com/datasets/jmcaro/wheat-seedsuci/data?select=seeds.csv"
   ]
  },
  {
   "cell_type": "code",
   "execution_count": null,
   "metadata": {},
   "outputs": [
    {
     "name": "stdout",
     "output_type": "stream",
     "text": [
      "Variação total explicada pelos dois primeiros componentes: 99.60%\n"
     ]
    }
   ],
   "source": [
    "seeds = pd.read_csv('data/seeds.csv')\n",
    "seeds = seeds[seeds['Type'] != 1]\n",
    "seeds['Type'] = seeds['Type'].astype(str)\n",
    "seeds_pca = apply_pca(seeds, 'Type')"
   ]
  },
  {
   "cell_type": "code",
   "execution_count": null,
   "metadata": {},
   "outputs": [
    {
     "name": "stdout",
     "output_type": "stream",
     "text": [
      "1.0\n",
      "1.0\n",
      "1.0\n"
     ]
    }
   ],
   "source": [
    "a, b, acima = cria_modelo(seeds_pca)\n",
    "#plotar o treino + modelo\n",
    "\n",
    "resultado, precisao, revocacao, f1_escore = calcula_metricas(seeds_pca, a, b, acima)\n",
    "#plotar o teste + modelo\n",
    "print(precisao)\n",
    "print(revocacao)\n",
    "print(f1_escore) "
   ]
  },
  {
   "cell_type": "markdown",
   "metadata": {},
   "source": [
    "## Dataset 5: zoo \n",
    "\n",
    "https://archive.ics.uci.edu/dataset/111/zoo"
   ]
  },
  {
   "cell_type": "code",
   "execution_count": null,
   "metadata": {},
   "outputs": [
    {
     "name": "stdout",
     "output_type": "stream",
     "text": [
      "Variação total explicada pelos dois primeiros componentes: 83.73%\n"
     ]
    }
   ],
   "source": [
    "zoo_pca = retorna_pca_uci(111, 'type')\n",
    "zoo_pca['class'] = zoo_pca['class'].astype(str)\n",
    "zoo_pca = zoo_pca[(zoo_pca['class'] == '1') |(zoo_pca['class'] == '2')]\n"
   ]
  },
  {
   "cell_type": "code",
   "execution_count": null,
   "metadata": {},
   "outputs": [
    {
     "name": "stdout",
     "output_type": "stream",
     "text": [
      "1.0\n",
      "1.0\n",
      "1.0\n"
     ]
    }
   ],
   "source": [
    "a, b, acima = cria_modelo(zoo_pca)\n",
    "#plotar o treino + modelo\n",
    "\n",
    "resultado, precisao, revocacao, f1_escore = calcula_metricas(zoo_pca, a, b, acima)\n",
    "#plotar o teste + modelo\n",
    "print(precisao)\n",
    "print(revocacao)\n",
    "print(f1_escore) "
   ]
  },
  {
   "cell_type": "markdown",
   "metadata": {},
   "source": [
    "## DATASET 6: Glass\n",
    "\n",
    "https://archive.ics.uci.edu/dataset/42/glass+identification"
   ]
  },
  {
   "cell_type": "code",
   "execution_count": null,
   "metadata": {},
   "outputs": [
    {
     "name": "stdout",
     "output_type": "stream",
     "text": [
      "Variação total explicada pelos dois primeiros componentes: 81.08%\n"
     ]
    }
   ],
   "source": [
    "glass_pca = retorna_pca_uci(42, 'Type_of_glass')\n",
    "glass_pca['class'] = glass_pca['class'].astype(str)\n",
    "glass_pca = glass_pca[(glass_pca['class'] == '5') | (glass_pca['class'] == '2')]\n"
   ]
  },
  {
   "cell_type": "code",
   "execution_count": null,
   "metadata": {},
   "outputs": [
    {
     "name": "stdout",
     "output_type": "stream",
     "text": [
      "1.0\n",
      "1.0\n",
      "1.0\n"
     ]
    }
   ],
   "source": [
    "a, b, acima = cria_modelo(glass_pca)\n",
    "#plotar o treino + modelo\n",
    "\n",
    "resultado, precisao, revocacao, f1_escore = calcula_metricas(glass_pca, a, b, acima)\n",
    "#plotar o teste + modelo\n",
    "print(precisao)\n",
    "print(revocacao)\n",
    "print(f1_escore) "
   ]
  }
 ],
 "metadata": {
  "kernelspec": {
   "display_name": "base",
   "language": "python",
   "name": "python3"
  },
  "language_info": {
   "codemirror_mode": {
    "name": "ipython",
    "version": 3
   },
   "file_extension": ".py",
   "mimetype": "text/x-python",
   "name": "python",
   "nbconvert_exporter": "python",
   "pygments_lexer": "ipython3",
   "version": "3.10.12"
  }
 },
 "nbformat": 4,
 "nbformat_minor": 2
}
